{
 "cells": [
  {
   "cell_type": "markdown",
   "metadata": {},
   "source": [
    "# ML Pipeline Preparation\n",
    "Follow the instructions below to help you create your ML pipeline.\n",
    "### 1. Import libraries and load data from database.\n",
    "- Import Python libraries\n",
    "- Load dataset from database with [`read_sql_table`](https://pandas.pydata.org/pandas-docs/stable/generated/pandas.read_sql_table.html)\n",
    "- Define feature and target variables X and Y"
   ]
  },
  {
   "cell_type": "code",
   "execution_count": 1,
   "metadata": {},
   "outputs": [],
   "source": [
    "import nltk\n",
    "#nltk.download(['punkt', 'wordnet', 'averaged_perceptron_tagger','stopwords'])"
   ]
  },
  {
   "cell_type": "code",
   "execution_count": 30,
   "metadata": {},
   "outputs": [],
   "source": [
    "# import libraries\n",
    "import numpy as np\n",
    "import pandas as pd\n",
    "from nltk.tokenize import word_tokenize\n",
    "from nltk.stem import WordNetLemmatizer\n",
    "\n",
    "from sklearn.pipeline import Pipeline,FeatureUnion\n",
    "from sklearn.metrics import confusion_matrix, classification_report, accuracy_score,fbeta_score\n",
    "from sklearn.model_selection import train_test_split,GridSearchCV\n",
    "from sklearn.ensemble import RandomForestClassifier,AdaBoostClassifier\n",
    "from sklearn.base import BaseEstimator,TransformerMixin\n",
    "from sklearn.feature_extraction.text import CountVectorizer,TfidfTransformer\n",
    "from sklearn.multioutput import MultiOutputClassifier\n",
    "from sklearn.naive_bayes import MultinomialNB\n",
    "\n",
    "from sklearn import svm\n",
    "from nltk.corpus import stopwords\n",
    "from sqlalchemy import create_engine \n",
    "\n",
    "import warnings\n",
    "warnings.filterwarnings('always', 'ResourceWarning') "
   ]
  },
  {
   "cell_type": "code",
   "execution_count": 3,
   "metadata": {},
   "outputs": [],
   "source": [
    "# load data from database\n",
    "engine = create_engine('sqlite:///disasterdb2.db')\n",
    "df = pd.read_sql_table('disasterdb2',con=engine)\n",
    "\n",
    "X = df.message\n",
    "Y = df.iloc[:,4:]\n",
    "ycols = Y.columns.tolist()"
   ]
  },
  {
   "cell_type": "code",
   "execution_count": 4,
   "metadata": {},
   "outputs": [],
   "source": [
    "#for column in Y:\n",
    "#    Y[column] = Y[column].astype(int)"
   ]
  },
  {
   "cell_type": "code",
   "execution_count": 5,
   "metadata": {},
   "outputs": [
    {
     "name": "stdout",
     "output_type": "stream",
     "text": [
      "(10222,)\n",
      "(10222, 35)\n"
     ]
    }
   ],
   "source": [
    "print(X.shape)\n",
    "print(Y.shape)"
   ]
  },
  {
   "cell_type": "markdown",
   "metadata": {},
   "source": [
    "### 2. Write a tokenization function to process your text data"
   ]
  },
  {
   "cell_type": "code",
   "execution_count": 44,
   "metadata": {},
   "outputs": [],
   "source": [
    "def tokenize(text):\n",
    "    \n",
    "    tokens = word_tokenize(text)\n",
    "    #tokens = [w for w in tokens if w not in stopwords.words('english')]\n",
    "    lemmatizer = WordNetLemmatizer()\n",
    "    #print(text)\n",
    "    clean_tokens = []\n",
    "    for token in tokens:\n",
    "        #print(token)\n",
    "        clean_token=lemmatizer.lemmatize(token).lower().strip()\n",
    "        clean_tokens.append(clean_token)\n",
    "    return clean_tokens"
   ]
  },
  {
   "cell_type": "code",
   "execution_count": 7,
   "metadata": {},
   "outputs": [
    {
     "name": "stdout",
     "output_type": "stream",
     "text": [
      "Weather update - a cold front from Cuba that could pass over Haiti\n",
      "['weather', 'update', '-', 'cold', 'front', 'cuba', 'could', 'pas', 'haiti'] \n",
      "\n",
      "Looking for someone but no name\n",
      "['looking', 'someone', 'name'] \n",
      "\n",
      "UN reports Leogane 80-90 destroyed. Only Hospital St. Croix functioning. Needs supplies desperately.\n",
      "['un', 'report', 'leogane', '80-90', 'destroyed', '.', 'only', 'hospital', 'st.', 'croix', 'functioning', '.', 'needs', 'supply', 'desperately', '.'] \n",
      "\n",
      "says: west side of Haiti, rest of the country today and tonight\n",
      "['say', ':', 'west', 'side', 'haiti', ',', 'rest', 'country', 'today', 'tonight'] \n",
      "\n",
      "Information about the National Palace-\n",
      "['information', 'national', 'palace-'] \n",
      "\n"
     ]
    }
   ],
   "source": [
    "for message in X[:5]:\n",
    "    print(message)\n",
    "    tokens = tokenize(message)\n",
    "    print(tokens,'\\n')"
   ]
  },
  {
   "cell_type": "markdown",
   "metadata": {},
   "source": [
    "### 3. Build a machine learning pipeline\n",
    "This machine pipeline should take in the `message` column as input and output classification results on the other 36 categories in the dataset. You may find the [MultiOutputClassifier](http://scikit-learn.org/stable/modules/generated/sklearn.multioutput.MultiOutputClassifier.html) helpful for predicting multiple target variables."
   ]
  },
  {
   "cell_type": "code",
   "execution_count": 19,
   "metadata": {},
   "outputs": [],
   "source": [
    "pipeline = Pipeline([\n",
    "    ('vect',CountVectorizer(tokenizer=tokenize)),\n",
    "    ('tfidf',TfidfTransformer()),\n",
    "    ('clf',MultiOutputClassifier(AdaBoostClassifier(n_estimators=10)))\n",
    "])\n"
   ]
  },
  {
   "cell_type": "markdown",
   "metadata": {},
   "source": [
    "### 4. Train pipeline\n",
    "- Split data into train and test sets\n",
    "- Train pipeline"
   ]
  },
  {
   "cell_type": "code",
   "execution_count": 9,
   "metadata": {},
   "outputs": [],
   "source": [
    "X_train, X_test, y_train, y_test = train_test_split(X, Y, test_size=0.3)"
   ]
  },
  {
   "cell_type": "code",
   "execution_count": 20,
   "metadata": {},
   "outputs": [
    {
     "data": {
      "text/plain": [
       "Pipeline(steps=[('vect',\n",
       "                 CountVectorizer(tokenizer=<function tokenize at 0x7f8efc198040>)),\n",
       "                ('tfidf', TfidfTransformer()),\n",
       "                ('clf',\n",
       "                 MultiOutputClassifier(estimator=AdaBoostClassifier(n_estimators=10)))])"
      ]
     },
     "execution_count": 20,
     "metadata": {},
     "output_type": "execute_result"
    }
   ],
   "source": [
    "pipeline.fit(X_train,y_train)"
   ]
  },
  {
   "cell_type": "markdown",
   "metadata": {},
   "source": [
    "### 5. Test your model\n",
    "Report the f1 score, precision and recall for each output category of the dataset. You can do this by iterating through the columns and calling sklearn's `classification_report` on each."
   ]
  },
  {
   "cell_type": "code",
   "execution_count": 21,
   "metadata": {},
   "outputs": [],
   "source": [
    "y_pred = pipeline.predict(X_test)"
   ]
  },
  {
   "cell_type": "code",
   "execution_count": 13,
   "metadata": {},
   "outputs": [
    {
     "name": "stdout",
     "output_type": "stream",
     "text": [
      "(3067, 35)\n",
      "(3067, 35)\n"
     ]
    }
   ],
   "source": [
    "print(y_test.shape)\n",
    "print(y_pred.shape)"
   ]
  },
  {
   "cell_type": "markdown",
   "metadata": {},
   "source": [
    "confusion_mat = confusion_matrix(y_test,y_pred, labels = ycols)\n",
    "accuracy=(y_test==y_pred).mean()\n",
    "print(\"Labels:\", ycols)\n",
    "print(\"Confusion Matrix:\\n\", confusion_mat)\n",
    "print(\"Accuracy:\", accuracy)"
   ]
  },
  {
   "cell_type": "code",
   "execution_count": 22,
   "metadata": {},
   "outputs": [
    {
     "name": "stdout",
     "output_type": "stream",
     "text": [
      "                        precision    recall  f1-score   support\n",
      "\n",
      "               related       0.67      1.00      0.80      2057\n",
      "               request       0.49      0.11      0.17      1101\n",
      "                 offer       0.00      0.00      0.00         1\n",
      "           aid_related       0.52      0.15      0.23      1195\n",
      "          medical_help       0.50      0.01      0.01       188\n",
      "      medical_products       0.00      0.00      0.00       111\n",
      "     search_and_rescue       0.00      0.00      0.00        67\n",
      "              security       0.00      0.00      0.00        37\n",
      "              military       0.00      0.00      0.00        13\n",
      "                 water       0.00      0.00      0.00       248\n",
      "                  food       0.12      0.00      0.00       463\n",
      "               shelter       0.11      0.00      0.01       329\n",
      "              clothing       0.00      0.00      0.00        24\n",
      "                 money       0.00      0.00      0.00        35\n",
      "        missing_people       0.00      0.00      0.00        22\n",
      "              refugees       0.00      0.00      0.00        58\n",
      "                 death       0.00      0.00      0.00        75\n",
      "             other_aid       0.00      0.00      0.00       443\n",
      "infrastructure_related       0.00      0.00      0.00        90\n",
      "             transport       0.00      0.00      0.00        60\n",
      "             buildings       0.00      0.00      0.00       107\n",
      "           electricity       0.00      0.00      0.00        25\n",
      "                 tools       0.00      0.00      0.00         6\n",
      "             hospitals       0.00      0.00      0.00        12\n",
      "                 shops       0.00      0.00      0.00         5\n",
      "           aid_centers       0.00      0.00      0.00        25\n",
      "  other_infrastructure       0.00      0.00      0.00        53\n",
      "       weather_related       0.00      0.00      0.00       446\n",
      "                floods       0.20      0.03      0.05        74\n",
      "                 storm       0.00      0.00      0.00        84\n",
      "                  fire       0.00      0.00      0.00        12\n",
      "            earthquake       0.00      0.00      0.00       252\n",
      "                  cold       0.00      0.00      0.00        18\n",
      "         other_weather       0.00      0.00      0.00        60\n",
      "         direct_report       0.42      0.10      0.16      1075\n",
      "\n",
      "             micro avg       0.62      0.28      0.38      8871\n",
      "             macro avg       0.09      0.04      0.04      8871\n",
      "          weighted avg       0.36      0.28      0.26      8871\n",
      "           samples avg       0.64      0.31      0.36      8871\n",
      "\n",
      "Fbeta score: 0.2647909211594375\n",
      "Accuracy 0.15520052168242582\n",
      "\n",
      "\n"
     ]
    },
    {
     "name": "stderr",
     "output_type": "stream",
     "text": [
      "/Users/thimothekonchou/opt/anaconda3/envs/venv/lib/python3.8/site-packages/sklearn/metrics/_classification.py:1245: UndefinedMetricWarning: Precision and F-score are ill-defined and being set to 0.0 in labels with no predicted samples. Use `zero_division` parameter to control this behavior.\n",
      "  _warn_prf(average, modifier, msg_start, len(result))\n",
      "/Users/thimothekonchou/opt/anaconda3/envs/venv/lib/python3.8/site-packages/sklearn/metrics/_classification.py:1245: UndefinedMetricWarning: Precision and F-score are ill-defined and being set to 0.0 in samples with no predicted labels. Use `zero_division` parameter to control this behavior.\n",
      "  _warn_prf(average, modifier, msg_start, len(result))\n",
      "/Users/thimothekonchou/opt/anaconda3/envs/venv/lib/python3.8/site-packages/sklearn/metrics/_classification.py:1245: UndefinedMetricWarning: Recall and F-score are ill-defined and being set to 0.0 in samples with no true labels. Use `zero_division` parameter to control this behavior.\n",
      "  _warn_prf(average, modifier, msg_start, len(result))\n"
     ]
    }
   ],
   "source": [
    "print(classification_report(y_test, y_pred, target_names=ycols))\n",
    "print(\"Fbeta score:\", fbeta_score(y_test, y_pred, beta=2, average=\"weighted\"))\n",
    "print('Accuracy {}\\n\\n'.format(accuracy_score(y_test, y_pred)))"
   ]
  },
  {
   "cell_type": "code",
   "execution_count": 23,
   "metadata": {},
   "outputs": [
    {
     "data": {
      "text/plain": [
       "dict_keys(['memory', 'steps', 'verbose', 'vect', 'tfidf', 'clf', 'vect__analyzer', 'vect__binary', 'vect__decode_error', 'vect__dtype', 'vect__encoding', 'vect__input', 'vect__lowercase', 'vect__max_df', 'vect__max_features', 'vect__min_df', 'vect__ngram_range', 'vect__preprocessor', 'vect__stop_words', 'vect__strip_accents', 'vect__token_pattern', 'vect__tokenizer', 'vect__vocabulary', 'tfidf__norm', 'tfidf__smooth_idf', 'tfidf__sublinear_tf', 'tfidf__use_idf', 'clf__estimator__algorithm', 'clf__estimator__base_estimator', 'clf__estimator__learning_rate', 'clf__estimator__n_estimators', 'clf__estimator__random_state', 'clf__estimator', 'clf__n_jobs'])"
      ]
     },
     "execution_count": 23,
     "metadata": {},
     "output_type": "execute_result"
    }
   ],
   "source": [
    "pipeline.get_params().keys()"
   ]
  },
  {
   "cell_type": "markdown",
   "metadata": {},
   "source": [
    "### 6. Improve your model\n",
    "Use grid search to find better parameters. "
   ]
  },
  {
   "cell_type": "code",
   "execution_count": 26,
   "metadata": {},
   "outputs": [],
   "source": [
    "def build_model():\n",
    "    \n",
    "    pipeline = Pipeline([\n",
    "        ('vect',CountVectorizer(tokenizer=tokenize)),\n",
    "        ('tfidf',TfidfTransformer()),\n",
    "        ('clf',MultiOutputClassifier(AdaBoostClassifier()))\n",
    "        ])\n",
    "    \n",
    "    \n",
    "    parameters = {\n",
    "        'tfidf__use_idf': (True, False),\n",
    "        'clf__estimator__n_estimators': [100, 200],\n",
    "        'clf__estimator__learning_rate': [0.001, 0.01,0.1,0.2,0.5],\n",
    "       }\n",
    "    cv = GridSearchCV(pipeline, param_grid=parameters)\n",
    "\n",
    "    return cv\n",
    "\n",
    "\n"
   ]
  },
  {
   "cell_type": "code",
   "execution_count": 27,
   "metadata": {},
   "outputs": [
    {
     "data": {
      "text/plain": [
       "GridSearchCV(estimator=Pipeline(steps=[('vect',\n",
       "                                        CountVectorizer(tokenizer=<function tokenize at 0x7f8efc198040>)),\n",
       "                                       ('tfidf', TfidfTransformer()),\n",
       "                                       ('clf',\n",
       "                                        MultiOutputClassifier(estimator=AdaBoostClassifier()))]),\n",
       "             param_grid={'clf__estimator__learning_rate': [0.001, 0.01, 0.1,\n",
       "                                                           0.2, 0.5],\n",
       "                         'clf__estimator__n_estimators': [100, 200],\n",
       "                         'tfidf__use_idf': (True, False)})"
      ]
     },
     "execution_count": 27,
     "metadata": {},
     "output_type": "execute_result"
    }
   ],
   "source": [
    "model = build_model()\n",
    "model.fit(X_train, y_train)"
   ]
  },
  {
   "cell_type": "code",
   "execution_count": 28,
   "metadata": {},
   "outputs": [
    {
     "name": "stdout",
     "output_type": "stream",
     "text": [
      "Best Parameters: {'clf__estimator__learning_rate': 0.01, 'clf__estimator__n_estimators': 200, 'tfidf__use_idf': True}\n"
     ]
    }
   ],
   "source": [
    "print('Best Parameters:', model.best_params_)\n",
    "#Best Parameters: {'tfidf__use_idf': False, 'vect__max_df': 0.75, 'vect__max_features': None, 'vect__ngram_range': (1, 2)}\n",
    "#Best Parameters: {'clf__estimator__learning_rate': 0.01, 'clf__estimator__n_estimators': 200, 'tfidf__use_idf': True}"
   ]
  },
  {
   "cell_type": "markdown",
   "metadata": {},
   "source": [
    "### 7. Test your model\n",
    "Show the accuracy, precision, and recall of the tuned model.  \n",
    "\n",
    "Since this project focuses on code quality, process, and  pipelines, there is no minimum performance metric needed to pass. However, make sure to fine tune your models for accuracy, precision and recall to make your project stand out - especially for your portfolio!"
   ]
  },
  {
   "cell_type": "code",
   "execution_count": 29,
   "metadata": {},
   "outputs": [
    {
     "name": "stdout",
     "output_type": "stream",
     "text": [
      "                        precision    recall  f1-score   support\n",
      "\n",
      "               related       0.67      1.00      0.80      2057\n",
      "               request       0.50      0.00      0.00      1101\n",
      "                 offer       0.00      0.00      0.00         1\n",
      "           aid_related       0.55      0.01      0.01      1195\n",
      "          medical_help       0.00      0.00      0.00       188\n",
      "      medical_products       0.00      0.00      0.00       111\n",
      "     search_and_rescue       0.00      0.00      0.00        67\n",
      "              security       0.00      0.00      0.00        37\n",
      "              military       0.00      0.00      0.00        13\n",
      "                 water       0.00      0.00      0.00       248\n",
      "                  food       0.00      0.00      0.00       463\n",
      "               shelter       0.00      0.00      0.00       329\n",
      "              clothing       0.00      0.00      0.00        24\n",
      "                 money       0.00      0.00      0.00        35\n",
      "        missing_people       0.00      0.00      0.00        22\n",
      "              refugees       0.00      0.00      0.00        58\n",
      "                 death       0.00      0.00      0.00        75\n",
      "             other_aid       0.00      0.00      0.00       443\n",
      "infrastructure_related       0.00      0.00      0.00        90\n",
      "             transport       0.00      0.00      0.00        60\n",
      "             buildings       0.00      0.00      0.00       107\n",
      "           electricity       0.00      0.00      0.00        25\n",
      "                 tools       0.00      0.00      0.00         6\n",
      "             hospitals       0.00      0.00      0.00        12\n",
      "                 shops       0.00      0.00      0.00         5\n",
      "           aid_centers       0.00      0.00      0.00        25\n",
      "  other_infrastructure       0.00      0.00      0.00        53\n",
      "       weather_related       0.00      0.00      0.00       446\n",
      "                floods       0.00      0.00      0.00        74\n",
      "                 storm       0.00      0.00      0.00        84\n",
      "                  fire       0.00      0.00      0.00        12\n",
      "            earthquake       0.00      0.00      0.00       252\n",
      "                  cold       0.00      0.00      0.00        18\n",
      "         other_weather       0.00      0.00      0.00        60\n",
      "         direct_report       0.00      0.00      0.00      1075\n",
      "\n",
      "             micro avg       0.67      0.23      0.35      8871\n",
      "             macro avg       0.05      0.03      0.02      8871\n",
      "          weighted avg       0.29      0.23      0.19      8871\n",
      "           samples avg       0.67      0.29      0.35      8871\n",
      "\n",
      "Accuracy 0.18813172481252038\n",
      "\n",
      "\n"
     ]
    },
    {
     "name": "stderr",
     "output_type": "stream",
     "text": [
      "/Users/thimothekonchou/opt/anaconda3/envs/venv/lib/python3.8/site-packages/sklearn/metrics/_classification.py:1245: UndefinedMetricWarning: Precision and F-score are ill-defined and being set to 0.0 in labels with no predicted samples. Use `zero_division` parameter to control this behavior.\n",
      "  _warn_prf(average, modifier, msg_start, len(result))\n",
      "/Users/thimothekonchou/opt/anaconda3/envs/venv/lib/python3.8/site-packages/sklearn/metrics/_classification.py:1245: UndefinedMetricWarning: Recall and F-score are ill-defined and being set to 0.0 in samples with no true labels. Use `zero_division` parameter to control this behavior.\n",
      "  _warn_prf(average, modifier, msg_start, len(result))\n"
     ]
    }
   ],
   "source": [
    "y_pred = model.predict(X_test)\n",
    "    \n",
    "print(classification_report(y_test,y_pred, target_names = ycols))\n",
    "print('Accuracy {}\\n\\n'.format(accuracy_score(y_test, y_pred)))"
   ]
  },
  {
   "cell_type": "code",
   "execution_count": 45,
   "metadata": {},
   "outputs": [],
   "source": [
    "# Perform classification with MultinomialNB\n",
    "pipeline = Pipeline([\n",
    "    ('vect',CountVectorizer(tokenizer=tokenize)),\n",
    "    ('tfidf',TfidfTransformer()),\n",
    "    ('clf',MultiOutputClassifier(MultinomialNB()))\n",
    "])\n",
    "\n",
    "pipeline.fit(X_train, y_train)\n",
    "prediction = pipeline.predict(X_test)\n",
    "\n",
    "# Perform classification with SVM, kernel=rbf\n",
    "pipeline_rbf = Pipeline([\n",
    "    ('vect',CountVectorizer(tokenizer=tokenize)),\n",
    "    ('tfidf',TfidfTransformer()),\n",
    "    ('classifier_rbf',MultiOutputClassifier(svm.SVC()))\n",
    "])\n",
    "\n",
    "pipeline_rbf.fit(X_train, y_train)\n",
    "prediction_rbf = pipeline_rbf.predict(X_test)\n",
    "    \n",
    "# Perform classification with SVM, kernel=linear\n",
    "\n",
    "pipeline_linear = Pipeline([\n",
    "    ('vect',CountVectorizer(tokenizer=tokenize)),\n",
    "    ('tfidf',TfidfTransformer()),\n",
    "    ('classifier_rbf',MultiOutputClassifier(svm.SVC(kernel='linear')))\n",
    "])\n",
    "\n",
    "pipeline_linear.fit(X_train, y_train)\n",
    "prediction_linear = pipeline_linear.predict(X_test)\n",
    "# Perform classification with SVM, kernel=linear\n",
    "\n",
    "pipeline_liblinear = Pipeline([\n",
    "    ('vect',CountVectorizer(tokenizer=tokenize)),\n",
    "    ('tfidf',TfidfTransformer()),\n",
    "    ('classifier_rbf',MultiOutputClassifier(svm.LinearSVC()))\n",
    "])\n",
    "\n",
    "pipeline_liblinear.fit(X_train, y_train)\n",
    "prediction_liblinear = pipeline_liblinear.predict(X_test)\n"
   ]
  },
  {
   "cell_type": "code",
   "execution_count": 46,
   "metadata": {},
   "outputs": [
    {
     "name": "stdout",
     "output_type": "stream",
     "text": [
      "\n",
      "Results for NaiveBayes (MultinomialNB) \n",
      "                        precision    recall  f1-score   support\n",
      "\n",
      "               related       0.67      1.00      0.80      2057\n",
      "               request       0.26      0.01      0.02      1101\n",
      "                 offer       0.00      0.00      0.00         1\n",
      "           aid_related       0.48      0.05      0.09      1195\n",
      "          medical_help       0.00      0.00      0.00       188\n",
      "      medical_products       0.00      0.00      0.00       111\n",
      "     search_and_rescue       0.00      0.00      0.00        67\n",
      "              security       0.00      0.00      0.00        37\n",
      "              military       0.00      0.00      0.00        13\n",
      "                 water       0.00      0.00      0.00       248\n",
      "                  food       0.00      0.00      0.00       463\n",
      "               shelter       0.00      0.00      0.00       329\n",
      "              clothing       0.00      0.00      0.00        24\n",
      "                 money       0.00      0.00      0.00        35\n",
      "        missing_people       0.00      0.00      0.00        22\n",
      "              refugees       0.00      0.00      0.00        58\n",
      "                 death       0.00      0.00      0.00        75\n",
      "             other_aid       0.33      0.00      0.00       443\n",
      "infrastructure_related       0.00      0.00      0.00        90\n",
      "             transport       0.00      0.00      0.00        60\n",
      "             buildings       0.00      0.00      0.00       107\n",
      "           electricity       0.00      0.00      0.00        25\n",
      "                 tools       0.00      0.00      0.00         6\n",
      "             hospitals       0.00      0.00      0.00        12\n",
      "                 shops       0.00      0.00      0.00         5\n",
      "           aid_centers       0.00      0.00      0.00        25\n",
      "  other_infrastructure       0.00      0.00      0.00        53\n",
      "       weather_related       0.42      0.01      0.02       446\n",
      "                floods       0.00      0.00      0.00        74\n",
      "                 storm       0.33      0.01      0.02        84\n",
      "                  fire       0.00      0.00      0.00        12\n",
      "            earthquake       0.00      0.00      0.00       252\n",
      "                  cold       0.00      0.00      0.00        18\n",
      "         other_weather       0.00      0.00      0.00        60\n",
      "         direct_report       0.33      0.01      0.03      1075\n",
      "\n",
      "             micro avg       0.65      0.24      0.35      8871\n",
      "             macro avg       0.08      0.03      0.03      8871\n",
      "          weighted avg       0.33      0.24      0.21      8871\n",
      "           samples avg       0.66      0.29      0.35      8871\n",
      "\n",
      "\n",
      "Accuracy score of Multinomial naive bayes algorithm -----> 0.1803064884251712\n",
      "\n",
      "\n",
      "\n",
      "\n",
      "Reviews Prediction\n"
     ]
    },
    {
     "name": "stderr",
     "output_type": "stream",
     "text": [
      "/Users/thimothekonchou/opt/anaconda3/envs/venv/lib/python3.8/site-packages/sklearn/metrics/_classification.py:1245: UndefinedMetricWarning: Precision and F-score are ill-defined and being set to 0.0 in labels with no predicted samples. Use `zero_division` parameter to control this behavior.\n",
      "  _warn_prf(average, modifier, msg_start, len(result))\n",
      "/Users/thimothekonchou/opt/anaconda3/envs/venv/lib/python3.8/site-packages/sklearn/metrics/_classification.py:1245: UndefinedMetricWarning: Precision and F-score are ill-defined and being set to 0.0 in samples with no predicted labels. Use `zero_division` parameter to control this behavior.\n",
      "  _warn_prf(average, modifier, msg_start, len(result))\n",
      "/Users/thimothekonchou/opt/anaconda3/envs/venv/lib/python3.8/site-packages/sklearn/metrics/_classification.py:1245: UndefinedMetricWarning: Recall and F-score are ill-defined and being set to 0.0 in samples with no true labels. Use `zero_division` parameter to control this behavior.\n",
      "  _warn_prf(average, modifier, msg_start, len(result))\n"
     ]
    }
   ],
   "source": [
    "\n",
    "# Print results in a nice table for MultinomialNB\n",
    "#print(classification_report(y_test,y_pred, target_names = ycols))\n",
    "#print('Accuracy {}\\n\\n'.format(accuracy_score(y_test, y_pred)))\n",
    "\n",
    "print(\"\\nResults for NaiveBayes (MultinomialNB) \")\n",
    "print(classification_report(y_test, prediction, target_names=ycols))\n",
    "print(\"\\nAccuracy score of Multinomial naive bayes algorithm -----> \" + str(accuracy_score(y_test, prediction)))\n",
    "\n",
    "print(\"\\n\\n\\n\")\n",
    "\n",
    "print(\"Reviews Prediction\")\n",
    "#print(\"\\nPredicted label is------> \"+ prediction[10]) \n",
    "#print(\"\\nMovie Review is ------> \\n\"+ X_test[10])"
   ]
  },
  {
   "cell_type": "code",
   "execution_count": 40,
   "metadata": {},
   "outputs": [
    {
     "name": "stdout",
     "output_type": "stream",
     "text": [
      "\n",
      "Results for SVM algorithm with rbf kernel\n",
      "                        precision    recall  f1-score   support\n",
      "\n",
      "               related       0.67      0.97      0.80      2057\n",
      "               request       0.47      0.10      0.17      1101\n",
      "                 offer       0.00      0.00      0.00         1\n",
      "           aid_related       0.49      0.18      0.26      1195\n",
      "          medical_help       0.00      0.00      0.00       188\n",
      "      medical_products       0.00      0.00      0.00       111\n",
      "     search_and_rescue       0.00      0.00      0.00        67\n",
      "              security       0.00      0.00      0.00        37\n",
      "              military       0.00      0.00      0.00        13\n",
      "                 water       0.00      0.00      0.00       248\n",
      "                  food       0.00      0.00      0.00       463\n",
      "               shelter       0.00      0.00      0.00       329\n",
      "              clothing       0.00      0.00      0.00        24\n",
      "                 money       0.00      0.00      0.00        35\n",
      "        missing_people       0.00      0.00      0.00        22\n",
      "              refugees       0.00      0.00      0.00        58\n",
      "                 death       0.00      0.00      0.00        75\n",
      "             other_aid       0.00      0.00      0.00       443\n",
      "infrastructure_related       0.00      0.00      0.00        90\n",
      "             transport       0.00      0.00      0.00        60\n",
      "             buildings       0.00      0.00      0.00       107\n",
      "           electricity       0.00      0.00      0.00        25\n",
      "                 tools       0.00      0.00      0.00         6\n",
      "             hospitals       0.00      0.00      0.00        12\n",
      "                 shops       0.00      0.00      0.00         5\n",
      "           aid_centers       0.00      0.00      0.00        25\n",
      "  other_infrastructure       0.00      0.00      0.00        53\n",
      "       weather_related       0.33      0.00      0.00       446\n",
      "                floods       0.00      0.00      0.00        74\n",
      "                 storm       0.00      0.00      0.00        84\n",
      "                  fire       0.00      0.00      0.00        12\n",
      "            earthquake       0.00      0.00      0.00       252\n",
      "                  cold       0.00      0.00      0.00        18\n",
      "         other_weather       0.00      0.00      0.00        60\n",
      "         direct_report       0.42      0.06      0.10      1075\n",
      "\n",
      "             micro avg       0.63      0.27      0.38      8871\n",
      "             macro avg       0.07      0.04      0.04      8871\n",
      "          weighted avg       0.35      0.27      0.25      8871\n",
      "           samples avg       0.63      0.30      0.35      8871\n",
      "\n",
      "\n",
      "Accuracy score of SVM algorithm with rbf kernel-----> 0.16987283990870558\n"
     ]
    },
    {
     "name": "stderr",
     "output_type": "stream",
     "text": [
      "/Users/thimothekonchou/opt/anaconda3/envs/venv/lib/python3.8/site-packages/sklearn/metrics/_classification.py:1245: UndefinedMetricWarning: Precision and F-score are ill-defined and being set to 0.0 in labels with no predicted samples. Use `zero_division` parameter to control this behavior.\n",
      "  _warn_prf(average, modifier, msg_start, len(result))\n",
      "/Users/thimothekonchou/opt/anaconda3/envs/venv/lib/python3.8/site-packages/sklearn/metrics/_classification.py:1245: UndefinedMetricWarning: Precision and F-score are ill-defined and being set to 0.0 in samples with no predicted labels. Use `zero_division` parameter to control this behavior.\n",
      "  _warn_prf(average, modifier, msg_start, len(result))\n",
      "/Users/thimothekonchou/opt/anaconda3/envs/venv/lib/python3.8/site-packages/sklearn/metrics/_classification.py:1245: UndefinedMetricWarning: Recall and F-score are ill-defined and being set to 0.0 in samples with no true labels. Use `zero_division` parameter to control this behavior.\n",
      "  _warn_prf(average, modifier, msg_start, len(result))\n"
     ]
    }
   ],
   "source": [
    "# Print results in a nice table for SVM algorithm with rbf kernal\n",
    "print(\"\\nResults for SVM algorithm with rbf kernel\")\n",
    "print(classification_report(y_test, prediction_rbf,target_names=ycols))\n",
    "print(\"\\nAccuracy score of SVM algorithm with rbf kernel-----> \" + str(accuracy_score(y_test, prediction_rbf)))\n"
   ]
  },
  {
   "cell_type": "code",
   "execution_count": 47,
   "metadata": {},
   "outputs": [
    {
     "name": "stdout",
     "output_type": "stream",
     "text": [
      "\n",
      "Results for SVM algorithm with linear kernel\n",
      "                        precision    recall  f1-score   support\n",
      "\n",
      "               related       0.68      0.97      0.80      2057\n",
      "               request       0.46      0.16      0.23      1101\n",
      "                 offer       0.00      0.00      0.00         1\n",
      "           aid_related       0.50      0.25      0.33      1195\n",
      "          medical_help       0.00      0.00      0.00       188\n",
      "      medical_products       0.00      0.00      0.00       111\n",
      "     search_and_rescue       0.00      0.00      0.00        67\n",
      "              security       0.00      0.00      0.00        37\n",
      "              military       0.00      0.00      0.00        13\n",
      "                 water       0.00      0.00      0.00       248\n",
      "                  food       0.00      0.00      0.00       463\n",
      "               shelter       0.00      0.00      0.00       329\n",
      "              clothing       0.00      0.00      0.00        24\n",
      "                 money       0.00      0.00      0.00        35\n",
      "        missing_people       0.00      0.00      0.00        22\n",
      "              refugees       0.00      0.00      0.00        58\n",
      "                 death       0.00      0.00      0.00        75\n",
      "             other_aid       0.00      0.00      0.00       443\n",
      "infrastructure_related       0.00      0.00      0.00        90\n",
      "             transport       0.00      0.00      0.00        60\n",
      "             buildings       0.00      0.00      0.00       107\n",
      "           electricity       0.00      0.00      0.00        25\n",
      "                 tools       0.00      0.00      0.00         6\n",
      "             hospitals       0.00      0.00      0.00        12\n",
      "                 shops       0.00      0.00      0.00         5\n",
      "           aid_centers       0.00      0.00      0.00        25\n",
      "  other_infrastructure       0.00      0.00      0.00        53\n",
      "       weather_related       0.33      0.00      0.01       446\n",
      "                floods       0.00      0.00      0.00        74\n",
      "                 storm       1.00      0.01      0.02        84\n",
      "                  fire       0.00      0.00      0.00        12\n",
      "            earthquake       0.00      0.00      0.00       252\n",
      "                  cold       0.00      0.00      0.00        18\n",
      "         other_weather       0.00      0.00      0.00        60\n",
      "         direct_report       0.42      0.08      0.13      1075\n",
      "\n",
      "             micro avg       0.62      0.29      0.39      8871\n",
      "             macro avg       0.10      0.04      0.04      8871\n",
      "          weighted avg       0.36      0.29      0.27      8871\n",
      "           samples avg       0.61      0.31      0.35      8871\n",
      "\n",
      "\n",
      "Accuracy score of SVM algorithm with linear kernal-----> 0.15780893381154223\n"
     ]
    },
    {
     "name": "stderr",
     "output_type": "stream",
     "text": [
      "/Users/thimothekonchou/opt/anaconda3/envs/venv/lib/python3.8/site-packages/sklearn/metrics/_classification.py:1245: UndefinedMetricWarning: Precision and F-score are ill-defined and being set to 0.0 in labels with no predicted samples. Use `zero_division` parameter to control this behavior.\n",
      "  _warn_prf(average, modifier, msg_start, len(result))\n",
      "/Users/thimothekonchou/opt/anaconda3/envs/venv/lib/python3.8/site-packages/sklearn/metrics/_classification.py:1245: UndefinedMetricWarning: Precision and F-score are ill-defined and being set to 0.0 in samples with no predicted labels. Use `zero_division` parameter to control this behavior.\n",
      "  _warn_prf(average, modifier, msg_start, len(result))\n",
      "/Users/thimothekonchou/opt/anaconda3/envs/venv/lib/python3.8/site-packages/sklearn/metrics/_classification.py:1245: UndefinedMetricWarning: Recall and F-score are ill-defined and being set to 0.0 in samples with no true labels. Use `zero_division` parameter to control this behavior.\n",
      "  _warn_prf(average, modifier, msg_start, len(result))\n"
     ]
    }
   ],
   "source": [
    "# Print results in a nice table for SVM algorithm with linear kernal\n",
    "print(\"\\nResults for SVM algorithm with linear kernel\")\n",
    "print(classification_report(y_test, prediction_linear,target_names=ycols))\n",
    "print(\"\\nAccuracy score of SVM algorithm with linear kernal-----> \" + str(accuracy_score(y_test, prediction_linear)))"
   ]
  },
  {
   "cell_type": "code",
   "execution_count": 49,
   "metadata": {},
   "outputs": [
    {
     "name": "stdout",
     "output_type": "stream",
     "text": [
      "\n",
      "Results for SVM algorithm with liblinear kernel\n",
      "                        precision    recall  f1-score   support\n",
      "\n",
      "               related       0.69      0.82      0.75      2057\n",
      "               request       0.42      0.27      0.33      1101\n",
      "                 offer       0.00      0.00      0.00         1\n",
      "           aid_related       0.44      0.32      0.37      1195\n",
      "          medical_help       0.00      0.00      0.00       188\n",
      "      medical_products       0.00      0.00      0.00       111\n",
      "     search_and_rescue       1.00      0.01      0.03        67\n",
      "              security       0.00      0.00      0.00        37\n",
      "              military       0.00      0.00      0.00        13\n",
      "                 water       0.38      0.01      0.02       248\n",
      "                  food       0.18      0.03      0.06       463\n",
      "               shelter       0.21      0.02      0.03       329\n",
      "              clothing       0.00      0.00      0.00        24\n",
      "                 money       0.00      0.00      0.00        35\n",
      "        missing_people       0.00      0.00      0.00        22\n",
      "              refugees       0.00      0.00      0.00        58\n",
      "                 death       0.00      0.00      0.00        75\n",
      "             other_aid       0.18      0.02      0.03       443\n",
      "infrastructure_related       0.00      0.00      0.00        90\n",
      "             transport       0.00      0.00      0.00        60\n",
      "             buildings       0.00      0.00      0.00       107\n",
      "           electricity       0.00      0.00      0.00        25\n",
      "                 tools       0.00      0.00      0.00         6\n",
      "             hospitals       0.00      0.00      0.00        12\n",
      "                 shops       0.00      0.00      0.00         5\n",
      "           aid_centers       0.00      0.00      0.00        25\n",
      "  other_infrastructure       0.00      0.00      0.00        53\n",
      "       weather_related       0.22      0.04      0.06       446\n",
      "                floods       0.00      0.00      0.00        74\n",
      "                 storm       0.43      0.04      0.07        84\n",
      "                  fire       0.00      0.00      0.00        12\n",
      "            earthquake       0.00      0.00      0.00       252\n",
      "                  cold       0.00      0.00      0.00        18\n",
      "         other_weather       0.00      0.00      0.00        60\n",
      "         direct_report       0.39      0.23      0.29      1075\n",
      "\n",
      "             micro avg       0.54      0.30      0.39      8871\n",
      "             macro avg       0.13      0.05      0.06      8871\n",
      "          weighted avg       0.38      0.30      0.31      8871\n",
      "           samples avg       0.48      0.29      0.30      8871\n",
      "\n",
      "\n",
      "Accuracy score of SVM algorithm with liblinear kernal-----> 0.16237365503749593\n"
     ]
    },
    {
     "name": "stderr",
     "output_type": "stream",
     "text": [
      "/Users/thimothekonchou/opt/anaconda3/envs/venv/lib/python3.8/site-packages/sklearn/metrics/_classification.py:1245: UndefinedMetricWarning: Precision and F-score are ill-defined and being set to 0.0 in labels with no predicted samples. Use `zero_division` parameter to control this behavior.\n",
      "  _warn_prf(average, modifier, msg_start, len(result))\n",
      "/Users/thimothekonchou/opt/anaconda3/envs/venv/lib/python3.8/site-packages/sklearn/metrics/_classification.py:1245: UndefinedMetricWarning: Precision and F-score are ill-defined and being set to 0.0 in samples with no predicted labels. Use `zero_division` parameter to control this behavior.\n",
      "  _warn_prf(average, modifier, msg_start, len(result))\n",
      "/Users/thimothekonchou/opt/anaconda3/envs/venv/lib/python3.8/site-packages/sklearn/metrics/_classification.py:1245: UndefinedMetricWarning: Recall and F-score are ill-defined and being set to 0.0 in samples with no true labels. Use `zero_division` parameter to control this behavior.\n",
      "  _warn_prf(average, modifier, msg_start, len(result))\n"
     ]
    }
   ],
   "source": [
    "# Print results in a nice table for SVM algorithm with liblinear kernal\n",
    "print(\"\\nResults for SVM algorithm with liblinear kernel\")\n",
    "print(classification_report(y_test, prediction_liblinear,target_names=ycols))\n",
    "print(\"\\nAccuracy score of SVM algorithm with liblinear kernal-----> \" + str(accuracy_score(y_test, prediction_liblinear)))\n"
   ]
  },
  {
   "cell_type": "code",
   "execution_count": null,
   "metadata": {},
   "outputs": [],
   "source": []
  },
  {
   "cell_type": "markdown",
   "metadata": {},
   "source": [
    "### 8. Try improving your model further. Here are a few ideas:\n",
    "* try other machine learning algorithms\n",
    "* add other features besides the TF-IDF"
   ]
  },
  {
   "cell_type": "code",
   "execution_count": null,
   "metadata": {},
   "outputs": [],
   "source": []
  },
  {
   "cell_type": "markdown",
   "metadata": {},
   "source": [
    "### 9. Export your model as a pickle file"
   ]
  },
  {
   "cell_type": "code",
   "execution_count": null,
   "metadata": {},
   "outputs": [],
   "source": []
  },
  {
   "cell_type": "markdown",
   "metadata": {},
   "source": [
    "### 10. Use this notebook to complete `train.py`\n",
    "Use the template file attached in the Resources folder to write a script that runs the steps above to create a database and export a model based on a new dataset specified by the user."
   ]
  },
  {
   "cell_type": "code",
   "execution_count": null,
   "metadata": {},
   "outputs": [],
   "source": []
  }
 ],
 "metadata": {
  "kernelspec": {
   "display_name": "Python 3",
   "language": "python",
   "name": "python3"
  },
  "language_info": {
   "codemirror_mode": {
    "name": "ipython",
    "version": 3
   },
   "file_extension": ".py",
   "mimetype": "text/x-python",
   "name": "python",
   "nbconvert_exporter": "python",
   "pygments_lexer": "ipython3",
   "version": "3.8.5"
  }
 },
 "nbformat": 4,
 "nbformat_minor": 2
}
